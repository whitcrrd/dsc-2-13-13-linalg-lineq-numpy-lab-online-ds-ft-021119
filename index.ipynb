{
 "cells": [
  {
   "cell_type": "markdown",
   "metadata": {},
   "source": [
    "# Solving Systems of Linear Equations with NumPy - Lab\n",
    "\n",
    "## Introduction \n",
    "\n",
    "Now we have gathered all the required skills needed to solve systems of linear equations. We saw why need to calculate inverses of matrices, followed by matrix multiplication to figure the values of unknown variables. \n",
    "\n",
    "Following exercises present some problems that can be converted into a system of linear equations. Solve the problems for the values of unknown variables. \n",
    "\n",
    "## Objectives\n",
    "You will be able to:\n",
    "\n",
    "* Build a system of equations from given problem by creating matrix and vectors in NumPy\n",
    "* Calculate the inverse and dot-product to get the values for unknown variables.\n",
    "* Solve linear equations using `numpy.linalg.solve()`"
   ]
  },
  {
   "cell_type": "markdown",
   "metadata": {},
   "source": [
    "## Exercise 1\n",
    "\n",
    "A coffee shop is having a sale on coffee and tea. \n",
    "\n",
    "On day 1, 29 bags of coffee and 41 bags of tea was sold, giving a total of 490 dollars.\n",
    "\n",
    "On day 2, they sold 23 bags of coffee and 41 bags of tea, for which customers paid a total of 448 dollars.  \n",
    "\n",
    "How much does each bag cost?"
   ]
  },
  {
   "cell_type": "code",
   "execution_count": 4,
   "metadata": {},
   "outputs": [
    {
     "name": "stdout",
     "output_type": "stream",
     "text": [
      "(2, 1)\n",
      "[[7.]\n",
      " [7.]]\n",
      "490\n"
     ]
    }
   ],
   "source": [
    "import numpy as np\n",
    "# Solution:\n",
    "\n",
    "# ( 29, 41 )   ( C )  ( 490 )\n",
    "# ( 23, 41 )   ( T )  ( 448 )\n",
    "\n",
    "A = np.matrix([[29, 41], [23, 41]])\n",
    "B = np.matrix([490, 448])\n",
    "\n",
    "A_inv = np.linalg.inv(A)\n",
    "A_inv\n",
    "B = B.T\n",
    "print (B.shape)\n",
    "X = A_inv.dot(B)\n",
    "print(X)\n",
    "\n",
    "c = 7\n",
    "t = 7\n",
    "spent = 29*c + 41*t\n",
    "print(spent)\n",
    "\n"
   ]
  },
  {
   "cell_type": "code",
   "execution_count": 5,
   "metadata": {},
   "outputs": [],
   "source": [
    "# Explain your answer in terms of prices\n",
    "# A bag of coffee and a bag of tea cost $7 each"
   ]
  },
  {
   "cell_type": "markdown",
   "metadata": {},
   "source": [
    "## Exercise 2:\n",
    "\n",
    "The cost of admission to a popular music concert was 162 dollars for 12 children and 3 adults. \n",
    "\n",
    "The admission was 122 dollars for 8 children and 3 adults in another music concert. \n",
    "\n",
    "How much was the admission for each child and adult?"
   ]
  },
  {
   "cell_type": "code",
   "execution_count": 8,
   "metadata": {},
   "outputs": [
    {
     "name": "stdout",
     "output_type": "stream",
     "text": [
      "[[10.]\n",
      " [14.]]\n"
     ]
    }
   ],
   "source": [
    "# Create a system of equations\n",
    "\n",
    "# ( 12, 3 )  ( C )  ( 162 )\n",
    "# ( 9, 3 )   ( A )  ( 122 )\n",
    "A = np.matrix([[12,3], [8, 3]])\n",
    "B = np.matrix([162, 122])\n",
    "A_inv = np.linalg.inv(A)\n",
    "B = B.T\n",
    "\n",
    "X = A_inv.dot(B)\n",
    "print(X)\n",
    "\n"
   ]
  },
  {
   "cell_type": "code",
   "execution_count": 7,
   "metadata": {},
   "outputs": [],
   "source": [
    "# Describe your result\n",
    "# price of admission is $10 per child, and $14 per adult\n"
   ]
  },
  {
   "cell_type": "markdown",
   "metadata": {},
   "source": [
    "## Exercise 3:\n",
    "\n",
    "You want to make a certain kind of tropical punch, using bananas, oranges, and papayas. \n",
    "\n",
    "Suppose you don't know how many of each to put in the punch, but you know that there are seven pieces of fruit in the mix, and there are twice as many oranges as bananas. \n",
    "\n",
    "You also know that the seven pieces of fruit cost \\$5.25, \n",
    "\n",
    "where bananas cost \\$.50 each, oranges cost \\$.75 each, and papayas cost \\$1.25 each.\n",
    "\n",
    "How many bananas, oranges and papayas would you need to make this punch ?"
   ]
  },
  {
   "cell_type": "code",
   "execution_count": 11,
   "metadata": {},
   "outputs": [
    {
     "name": "stdout",
     "output_type": "stream",
     "text": [
      "*_*_*_ A_inv\n",
      "[[ 0.71428571 -0.57142857 -0.28571429]\n",
      " [ 1.42857143 -1.14285714  0.42857143]\n",
      " [-1.14285714  1.71428571 -0.14285714]]\n",
      "*_*_*_ B transposed\n",
      "[[7.  ]\n",
      " [5.25]\n",
      " [0.  ]]\n",
      "*_*_*_ RESULT\n",
      "[[2.]\n",
      " [4.]\n",
      " [1.]]\n"
     ]
    }
   ],
   "source": [
    "# Create a system of equations\n",
    "\n",
    "# B, O, P\n",
    "\n",
    "# B + O + P = 7 (total)\n",
    "# O = 2B\n",
    "# B + O + P = $5.25\n",
    "\n",
    "# (?, ?, ?)   (0.5) B\n",
    "#             (0.75) O\n",
    "#             (1.25) P\n",
    "\n",
    "# 0.5B + 0.75G + 1.25P = 5.25\n",
    "# B + G + P = 7\n",
    "# -2b + o + 0p = 0\n",
    "\n",
    "A = np.matrix([[1,1,1], [0.5, 0.75, 1.25], [-2, 1, 0]])\n",
    "B = np.matrix([7, 5.25, 0])\n",
    "A_inv = np.linalg.inv(A)\n",
    "print(\"*_*_*_ A_inv\")\n",
    "print(A_inv)\n",
    "B = B.T\n",
    "print(\"*_*_*_ B transposed\")\n",
    "print(B)\n",
    "X = A_inv.dot(B)\n",
    "print(\"*_*_*_ RESULT\")\n",
    "print(X)\n",
    "\n",
    "\n"
   ]
  },
  {
   "cell_type": "code",
   "execution_count": 2,
   "metadata": {},
   "outputs": [],
   "source": [
    "# Explain your answer\n",
    "# 2 bananas, 4 oranges, 1 papaya"
   ]
  },
  {
   "cell_type": "markdown",
   "metadata": {},
   "source": [
    "## Exercise 4\n",
    "\n",
    "A landlord owns 3 houses, a 1-bedroom, a 2-bedroom , and a 3-bedroom house. \n",
    "\n",
    "The total rent he receives is 1240 dollars. \n",
    "\n",
    "He needs to make some repairs, where it costs 10% of the 1-bedroom house’s rent for its repairs, 20% of the 2-bedroom for its repairs, and 30% of the 3-bedroom house's rent for its repairs.  The total repair bill for all three houses was $276. \n",
    "\n",
    "The 3-bedroom house's rent is twice the 1-bedroom house’s rent. \n",
    "\n",
    "How much is the individual rent for three houses?"
   ]
  },
  {
   "cell_type": "code",
   "execution_count": 12,
   "metadata": {},
   "outputs": [
    {
     "name": "stdout",
     "output_type": "stream",
     "text": [
      "*_*_*_ A_inv\n",
      "[[ -2.  10.   1.]\n",
      " [  7. -30.  -2.]\n",
      " [ -4.  20.   1.]]\n",
      "*_*_*_ B transposed\n",
      "[[1240]\n",
      " [ 276]\n",
      " [   0]]\n",
      "*_*_*_ RESULT\n",
      "[[280.]\n",
      " [400.]\n",
      " [560.]]\n"
     ]
    }
   ],
   "source": [
    "# Create a system of equations\n",
    "# a + b + c = 1240\n",
    "# 0.1a + 0.2b + 0.3c = 276\n",
    "# 2a + 0b - c = 0\n",
    "\n",
    "A = np.matrix([[1,1,1], [0.1, 0.2, 0.3], [2,0,-1]])\n",
    "B = np.matrix([1240, 276, 0])\n",
    "\n",
    "A_inv = np.linalg.inv(A)\n",
    "print(\"*_*_*_ A_inv\")\n",
    "print(A_inv)\n",
    "B = B.T\n",
    "print(\"*_*_*_ B transposed\")\n",
    "print(B)\n",
    "X = A_inv.dot(B)\n",
    "print(\"*_*_*_ RESULT\")\n",
    "print(X)"
   ]
  },
  {
   "cell_type": "code",
   "execution_count": 11,
   "metadata": {},
   "outputs": [],
   "source": [
    "# Explain your answer\n",
    "# The one bedroom rents for $280, two bedroom for $400, three bedroom for $560\n"
   ]
  },
  {
   "cell_type": "markdown",
   "metadata": {},
   "source": [
    "## Summary\n",
    "In this lab, we saw how to use Numpy to solve linear equations by taking inverses and matrix multiplication and also using numpy's `.solve()`. We shall now take these skills forward and see how we can define a simple regression problem using linear algebra and solve it with numpy, only using the skills that we have learnt so far. "
   ]
  }
 ],
 "metadata": {
  "kernelspec": {
   "display_name": "Python 3",
   "language": "python",
   "name": "python3"
  },
  "language_info": {
   "codemirror_mode": {
    "name": "ipython",
    "version": 3
   },
   "file_extension": ".py",
   "mimetype": "text/x-python",
   "name": "python",
   "nbconvert_exporter": "python",
   "pygments_lexer": "ipython3",
   "version": "3.7.1"
  }
 },
 "nbformat": 4,
 "nbformat_minor": 2
}
